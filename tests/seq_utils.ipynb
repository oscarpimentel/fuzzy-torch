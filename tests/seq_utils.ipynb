{
 "cells": [
  {
   "cell_type": "code",
   "execution_count": null,
   "metadata": {},
   "outputs": [],
   "source": [
    "import sys\n",
    "sys.path.append('../') # or just install the module\n",
    "sys.path.append('../../fuzzy-tools') # or just install the module"
   ]
  },
  {
   "cell_type": "code",
   "execution_count": null,
   "metadata": {},
   "outputs": [],
   "source": [
    "%load_ext autoreload\n",
    "%autoreload 2\n",
    "import fuzzytorch.models.seq_utils as seq_utils\n",
    "import torch\n",
    "\n",
    "n = 20\n",
    "x = torch.cat([\n",
    "    torch.arange(0,n)[None],\n",
    "    torch.arange(0,n)[None],\n",
    "    torch.arange(0,n)[None],\n",
    "    torch.arange(0,n)[None],\n",
    "],dim=0)[...,None]+1\n",
    "x = x.float()\n",
    "print(x.shape, x[...,0])\n",
    "onehot = torch.zeros_like(x)[...,0]\n",
    "onehot[0,:10] = 1\n",
    "onehot[1,:] = 1\n",
    "onehot[2,:1] = 1\n",
    "print(onehot.shape, onehot)"
   ]
  },
  {
   "cell_type": "code",
   "execution_count": null,
   "metadata": {},
   "outputs": [],
   "source": [
    "%load_ext autoreload\n",
    "%autoreload 2\n",
    "import fuzzytorch.models.seq_utils as seq_utils\n",
    "import torch\n",
    "\n",
    "r = seq_utils.seq_clean(x, onehot.bool(), -1)\n",
    "print(r.shape, r[...,0])\n",
    "r = seq_utils.seq_last_element(x, onehot.bool(), empty_seq_value=-1)\n",
    "print(r.shape, r[...,0])"
   ]
  },
  {
   "cell_type": "code",
   "execution_count": null,
   "metadata": {},
   "outputs": [],
   "source": [
    "aa = 0\n",
    "for k in range(1, 20+1):\n",
    "    aa += k\n",
    "    \n",
    "print(aa/20)"
   ]
  },
  {
   "cell_type": "code",
   "execution_count": null,
   "metadata": {},
   "outputs": [],
   "source": [
    "%load_ext autoreload\n",
    "%autoreload 2\n",
    "import fuzzytorch.models.seq_utils as seq_utils\n",
    "import torch\n",
    "\n",
    "r = seq_utils.seq_sum_pooling(x, onehot.bool(), -1)\n",
    "print(r.shape, r[...,0])\n",
    "r = seq_utils.seq_avg_pooling(x, onehot.bool(), -1)\n",
    "print(r.shape, r[...,0])"
   ]
  },
  {
   "cell_type": "code",
   "execution_count": null,
   "metadata": {},
   "outputs": [],
   "source": [
    "%load_ext autoreload\n",
    "%autoreload 2\n",
    "import fuzzytorch.models.seq_utils as seq_utils\n",
    "import torch\n",
    "\n",
    "r = seq_utils.seq_avg_pooling(x, onehot.bool())\n",
    "print(r.shape, r[...,0])\n",
    "r = seq_utils.seq_avg_norm(x, onehot.bool())\n",
    "for i in range(0,4):\n",
    "    print(onehot[i,:])\n",
    "    print(r.shape, r[i,:,0])"
   ]
  },
  {
   "cell_type": "code",
   "execution_count": null,
   "metadata": {},
   "outputs": [],
   "source": [
    "%load_ext autoreload\n",
    "%autoreload 2\n",
    "import fuzzytorch.models.seq_utils as seq_utils\n",
    "import torch\n",
    "\n",
    "r = seq_utils.seq_sum_pooling(x, onehot.bool())\n",
    "print(r.shape, r[...,0])\n",
    "r = seq_utils.seq_sum_norm(x, onehot.bool())\n",
    "for i in range(0,4):\n",
    "    print(onehot[i,:])\n",
    "    print(r.shape, r[i,:,0])"
   ]
  },
  {
   "cell_type": "code",
   "execution_count": null,
   "metadata": {},
   "outputs": [],
   "source": [
    "%load_ext autoreload\n",
    "%autoreload 2\n",
    "import fuzzytorch.models.seq_utils as seq_utils\n",
    "import torch\n",
    "\n",
    "r = seq_utils.seq_min_pooling(x, onehot.bool())\n",
    "print('r',r.shape, r[...,0])\n",
    "r = seq_utils.seq_max_pooling(x, onehot.bool())\n",
    "print('r',r.shape, r[...,0])\n",
    "r = seq_utils.seq_min_max_norm(x, onehot.bool())\n",
    "print(r.device)\n",
    "for i in range(0,4):\n",
    "    print(onehot[i,:])\n",
    "    print(r.shape, r[i,:,0])"
   ]
  },
  {
   "cell_type": "code",
   "execution_count": null,
   "metadata": {},
   "outputs": [],
   "source": [
    "%load_ext autoreload\n",
    "%autoreload 2\n",
    "import fuzzytorch.models.seq_utils as seq_utils\n",
    "import torch\n",
    "\n",
    "r = seq_utils.get_seq_onehot_mask(torch.tensor([5,7,2,1,0]), 10)\n",
    "print(r.shape, r)"
   ]
  },
  {
   "cell_type": "code",
   "execution_count": null,
   "metadata": {},
   "outputs": [],
   "source": [
    "%load_ext autoreload\n",
    "%autoreload 2\n",
    "import fuzzytorch.models.seq_utils as seq_utils\n",
    "import torch\n",
    "\n",
    "onehot = torch.zeros_like(x)[...,0]\n",
    "onehot[0,0] = 1\n",
    "onehot[0,1] = 1\n",
    "onehot[0,2] = 1\n",
    "onehot[0,9] = 1\n",
    "\n",
    "onehot[1,0] = 1\n",
    "onehot[1,2] = 1\n",
    "onehot[1,7] = 1\n",
    "onehot[1,11] = 1\n",
    "\n",
    "onehot[2,12] = 1\n",
    "onehot[2,13] = 1\n",
    "onehot[2,14] = 1\n",
    "\n",
    "p = seq_utils.serial_to_parallel(x, onehot.bool())\n",
    "for i in range(0,len(onehot)):\n",
    "    print(onehot.shape, onehot[i,:])\n",
    "    print(p.shape, p[i,:,0])\n",
    "    print('***')"
   ]
  },
  {
   "cell_type": "code",
   "execution_count": null,
   "metadata": {},
   "outputs": [],
   "source": [
    "%load_ext autoreload\n",
    "%autoreload 2\n",
    "import fuzzytorch.models.seq_utils as seq_utils\n",
    "import torch\n",
    "import numpy as np\n",
    "\n",
    "y = torch.clone(x).float()[:2]\n",
    "y[1] = y[1]+5\n",
    "y[0,20:,:] = 0\n",
    "y[1,10:,:] = 0\n",
    "print(y.shape, y[0,:,0])\n",
    "print(y.shape, y[1,:,0])\n",
    "print('***'*10)\n",
    "y_onehot = seq_utils.get_random_onehot(y, 2)\n",
    "y_onehot[0,:,:] = 0\n",
    "y_onehot[1,20:,:] = 0\n",
    "res = []\n",
    "for i in range(2):\n",
    "    p_y_onehot = y_onehot[...,i]\n",
    "    y_p = seq_utils.serial_to_parallel(y, p_y_onehot)\n",
    "    print(p_y_onehot.shape, p_y_onehot.int())\n",
    "    print(y_p.shape, y_p[...,0])\n",
    "    res.append(y_p)\n",
    "    print('***'*5)\n",
    "\n",
    "print('***'*10)\n",
    "s = seq_utils.parallel_to_serial(res, y_onehot)\n",
    "print(s.shape, s[0,:,0])\n",
    "print(s.shape, s[1,:,0])"
   ]
  }
 ],
 "metadata": {
  "kernelspec": {
   "display_name": "Python 3",
   "language": "python",
   "name": "python3"
  },
  "language_info": {
   "codemirror_mode": {
    "name": "ipython",
    "version": 3
   },
   "file_extension": ".py",
   "mimetype": "text/x-python",
   "name": "python",
   "nbconvert_exporter": "python",
   "pygments_lexer": "ipython3",
   "version": "3.7.10"
  }
 },
 "nbformat": 4,
 "nbformat_minor": 4
}
