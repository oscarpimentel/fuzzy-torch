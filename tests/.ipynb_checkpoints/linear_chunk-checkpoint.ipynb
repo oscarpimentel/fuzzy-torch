{
 "cells": [
  {
   "cell_type": "code",
   "execution_count": 1,
   "id": "cc139f6d",
   "metadata": {},
   "outputs": [],
   "source": [
    "import sys\n",
    "sys.path.append('../') # or just install the module\n",
    "sys.path.append('../../fuzzy-tools') # or just install the module"
   ]
  },
  {
   "cell_type": "code",
   "execution_count": null,
   "id": "807bbfee",
   "metadata": {},
   "outputs": [],
   "source": [
    "import torch\n",
    "import torch.nn as nn\n",
    "import numpy as np\n",
    "\n",
    "split_out = 2\n",
    "n = 2\n",
    "t = 5\n",
    "f = 10\n",
    "te_code = np.random.rand(n, t, f)\n",
    "linear = nn.Linear(f, f, bias=False)\n",
    "print('te_code', te_code)\n",
    "\n",
    "### torch\n",
    "a, b = torch.chunk(linear(torch.Tensor(te_code)), split_out, dim=-1)\n",
    "print('a', a)\n",
    "print('b', b)\n",
    "\n",
    "### numpy\n",
    "weight = linear.weight.cpu().detach().numpy()\n",
    "weight = weight.T\n",
    "a, b = np.split(te_code@weight, split_out, axis=-1)\n",
    "print('a', a)\n",
    "print('b', b)"
   ]
  }
 ],
 "metadata": {
  "kernelspec": {
   "display_name": "Python 3",
   "language": "python",
   "name": "python3"
  },
  "language_info": {
   "codemirror_mode": {
    "name": "ipython",
    "version": 3
   },
   "file_extension": ".py",
   "mimetype": "text/x-python",
   "name": "python",
   "nbconvert_exporter": "python",
   "pygments_lexer": "ipython3",
   "version": "3.7.10"
  }
 },
 "nbformat": 4,
 "nbformat_minor": 5
}
