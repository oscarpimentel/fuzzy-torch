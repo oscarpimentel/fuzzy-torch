{
 "cells": [
  {
   "cell_type": "code",
   "execution_count": null,
   "metadata": {},
   "outputs": [],
   "source": [
    "import sys\n",
    "sys.path.append('../') # or just install the module\n",
    "sys.path.append('../../fuzzy-tools') # or just install the module"
   ]
  },
  {
   "cell_type": "code",
   "execution_count": null,
   "metadata": {},
   "outputs": [],
   "source": [
    "%load_ext autoreload\n",
    "%autoreload 2\n",
    "import fuzzytorch.models.seq_utils as seq_utils\n",
    "import torch\n",
    "import numpy as np\n",
    "\n",
    "n = 10\n",
    "device = 'cpu' # cpu cuda:0\n",
    "x = torch.tensor([[47,49,np.nan,40,np.nan,43,55], [np.nan,15,14,np.nan,np.nan,np.nan,15]]).permute(1,0)[None].repeat(n,1,1)\n",
    "times = torch.tensor([0, 0.1, 0.6, 1.6, 2.2, 2.5, 3.1])[None].repeat(n,1)\n",
    "not_missing_mask = torch.tensor([[1,1,0,1,0,1,1], [0,1,1,0,0,0,1]]).permute(1,0)[None].repeat(n,1,1).bool()\n",
    "x.to(device)\n",
    "times.to(device)\n",
    "not_missing_mask.to(device)\n",
    "print(x.shape, x[0])\n",
    "print(times.shape, times[0])\n",
    "print(not_missing_mask.shape, not_missing_mask[0])\n",
    "onehot = seq_utils.get_dummy_onehot(x)"
   ]
  },
  {
   "cell_type": "code",
   "execution_count": null,
   "metadata": {},
   "outputs": [],
   "source": [
    "%load_ext autoreload\n",
    "%autoreload 2\n",
    "\n",
    "new_x = seq_utils.seq_fill_missing(x, not_missing_mask, onehot)\n",
    "print(new_x.shape, new_x[0].permute(1,0))"
   ]
  },
  {
   "cell_type": "code",
   "execution_count": null,
   "metadata": {},
   "outputs": [],
   "source": [
    "dtimes = seq_utils.seq_dtimes(times, not_missing_mask, onehot)\n",
    "print(dtimes.shape, dtimes[0].permute(1,0))"
   ]
  }
 ],
 "metadata": {
  "kernelspec": {
   "display_name": "Python 3",
   "language": "python",
   "name": "python3"
  },
  "language_info": {
   "codemirror_mode": {
    "name": "ipython",
    "version": 3
   },
   "file_extension": ".py",
   "mimetype": "text/x-python",
   "name": "python",
   "nbconvert_exporter": "python",
   "pygments_lexer": "ipython3",
   "version": "3.7.10"
  }
 },
 "nbformat": 4,
 "nbformat_minor": 2
}
