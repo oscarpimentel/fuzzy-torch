{
 "cells": [
  {
   "cell_type": "code",
   "execution_count": 1,
   "metadata": {},
   "outputs": [],
   "source": [
    "import sys\n",
    "sys.path.append('../') # or just install the module\n",
    "sys.path.append('../../fuzzy-tools') # or just install the module"
   ]
  },
  {
   "cell_type": "code",
   "execution_count": 2,
   "metadata": {},
   "outputs": [
    {
     "name": "stdout",
     "output_type": "stream",
     "text": [
      "torch.Size([10, 7, 2]) tensor([[47., nan],\n",
      "        [49., 15.],\n",
      "        [nan, 14.],\n",
      "        [40., nan],\n",
      "        [nan, nan],\n",
      "        [43., nan],\n",
      "        [55., 15.]])\n",
      "torch.Size([10, 7]) tensor([0.0000, 0.1000, 0.6000, 1.6000, 2.2000, 2.5000, 3.1000])\n",
      "torch.Size([10, 7, 2]) tensor([[ True, False],\n",
      "        [ True,  True],\n",
      "        [False,  True],\n",
      "        [ True, False],\n",
      "        [False, False],\n",
      "        [ True, False],\n",
      "        [ True,  True]])\n"
     ]
    }
   ],
   "source": [
    "%load_ext autoreload\n",
    "%autoreload 2\n",
    "import fuzzytorch.models.seq_utils as seq_utils\n",
    "import torch\n",
    "import numpy as np\n",
    "\n",
    "n = 10\n",
    "device = 'cpu' # cpu cuda:0\n",
    "x = torch.tensor([[47,49,np.nan,40,np.nan,43,55], [np.nan,15,14,np.nan,np.nan,np.nan,15]]).permute(1,0)[None].repeat(n,1,1)\n",
    "times = torch.tensor([0, 0.1, 0.6, 1.6, 2.2, 2.5, 3.1])[None].repeat(n,1)\n",
    "not_missing_mask = torch.tensor([[1,1,0,1,0,1,1], [0,1,1,0,0,0,1]]).permute(1,0)[None].repeat(n,1,1).bool()\n",
    "x.to(device)\n",
    "times.to(device)\n",
    "not_missing_mask.to(device)\n",
    "print(x.shape, x[0])\n",
    "print(times.shape, times[0])\n",
    "print(not_missing_mask.shape, not_missing_mask[0])\n",
    "onehot = seq_utils.get_dummy_onehot(x)"
   ]
  },
  {
   "cell_type": "code",
   "execution_count": 3,
   "metadata": {},
   "outputs": [
    {
     "name": "stdout",
     "output_type": "stream",
     "text": [
      "The autoreload extension is already loaded. To reload it, use:\n",
      "  %reload_ext autoreload\n",
      "torch.Size([10, 7, 2]) tensor([[47., 49., 49., 40., 40., 43., 55.],\n",
      "        [ 0., 15., 14., 14., 14., 14., 15.]])\n"
     ]
    }
   ],
   "source": [
    "%load_ext autoreload\n",
    "%autoreload 2\n",
    "\n",
    "new_x = seq_utils.seq_fill_missing(x, not_missing_mask, onehot)\n",
    "print(new_x.shape, new_x[0].permute(1,0))"
   ]
  },
  {
   "cell_type": "code",
   "execution_count": 4,
   "metadata": {},
   "outputs": [
    {
     "name": "stdout",
     "output_type": "stream",
     "text": [
      "torch.Size([10, 7, 2]) tensor([[0.0000, 0.1000, 0.5000, 1.5000, 0.6000, 0.9000, 0.6000],\n",
      "        [0.0000, 0.1000, 0.5000, 1.0000, 1.6000, 1.9000, 2.5000]])\n"
     ]
    }
   ],
   "source": [
    "dtimes = seq_utils.seq_dtimes(times, not_missing_mask, onehot)\n",
    "print(dtimes.shape, dtimes[0].permute(1,0))"
   ]
  }
 ],
 "metadata": {
  "kernelspec": {
   "display_name": "Python 3",
   "language": "python",
   "name": "python3"
  },
  "language_info": {
   "codemirror_mode": {
    "name": "ipython",
    "version": 3
   },
   "file_extension": ".py",
   "mimetype": "text/x-python",
   "name": "python",
   "nbconvert_exporter": "python",
   "pygments_lexer": "ipython3",
   "version": "3.7.10"
  }
 },
 "nbformat": 4,
 "nbformat_minor": 2
}
