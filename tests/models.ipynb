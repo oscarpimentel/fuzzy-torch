{
 "cells": [
  {
   "cell_type": "code",
   "execution_count": null,
   "metadata": {},
   "outputs": [],
   "source": [
    "import sys\n",
    "sys.path.append('../') # or just install the module\n",
    "sys.path.append('../../fuzzy-tools') # or just install the module"
   ]
  },
  {
   "cell_type": "code",
   "execution_count": null,
   "metadata": {},
   "outputs": [],
   "source": [
    "%load_ext autoreload\n",
    "%autoreload 2\n",
    "import torch\n",
    "import torch.nn as nn\n",
    "from fuzzytorch.models.cnn.basics import Conv1DLinear\n",
    "\n",
    "kwargs = {\n",
    "    #'padding_mode':None,\n",
    "    #'padding_mode':'same',\n",
    "    'padding_mode':'causal',\n",
    "    'cnn_kwargs':{'kernel_size':5, 'stride':1, 'dilation':2,},\n",
    "    'pool_kwargs':{'kernel_size':3, 'stride':1, 'dilation':1,},\n",
    "}\n",
    "cnn = Conv1DLinear(99, [10], 9, **kwargs)\n",
    "#print(cnn.get_spatial_field())\n",
    "print(cnn)\n",
    "\n",
    "x = torch.ones((256,99,10))\n",
    "print(x.shape)\n",
    "x = cnn(x)\n",
    "print(x.shape)"
   ]
  },
  {
   "cell_type": "code",
   "execution_count": null,
   "metadata": {},
   "outputs": [],
   "source": [
    "%load_ext autoreload\n",
    "%autoreload 2\n",
    "import torch\n",
    "import torch.nn as nn\n",
    "from fuzzytorch.models.cnn.basics import Conv2DLinear\n",
    "\n",
    "kwargs = {\n",
    "    'padding_mode':None,\n",
    "    'padding_mode':'same',\n",
    "    #'padding_mode':'causal',\n",
    "    'bias':0,\n",
    "}\n",
    "cnn = Conv2DLinear(99, [10,10], 9, **kwargs)\n",
    "print(cnn)\n",
    "\n",
    "x = torch.ones((256,99,10,10))\n",
    "x = cnn(x)\n",
    "print(x.shape)"
   ]
  },
  {
   "cell_type": "code",
   "execution_count": null,
   "metadata": {},
   "outputs": [],
   "source": []
  },
  {
   "cell_type": "code",
   "execution_count": null,
   "metadata": {},
   "outputs": [],
   "source": []
  }
 ],
 "metadata": {
  "kernelspec": {
   "display_name": "Python 3",
   "language": "python",
   "name": "python3"
  },
  "language_info": {
   "codemirror_mode": {
    "name": "ipython",
    "version": 3
   },
   "file_extension": ".py",
   "mimetype": "text/x-python",
   "name": "python",
   "nbconvert_exporter": "python",
   "pygments_lexer": "ipython3",
   "version": "3.7.9"
  }
 },
 "nbformat": 4,
 "nbformat_minor": 4
}
